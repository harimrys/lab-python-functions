{
 "cells": [
  {
   "cell_type": "markdown",
   "id": "25d7736c-ba17-4aff-b6bb-66eba20fbf4e",
   "metadata": {},
   "source": [
    "# Lab | Functions"
   ]
  },
  {
   "cell_type": "markdown",
   "id": "0c581062-8967-4d93-b06e-62833222f930",
   "metadata": {
    "tags": []
   },
   "source": [
    "## Exercise: Managing Customer Orders with Functions\n",
    "\n",
    "In the previous exercise, you improved the code for managing customer orders by using loops and flow control. Now, let's take it a step further and refactor the code by introducing functions.\n",
    "\n",
    "Follow the steps below to complete the exercise:\n",
    "\n",
    "1. Define a function named `initialize_inventory` that takes `products` as a parameter. Inside the function, implement the code for initializing the inventory dictionary using a loop and user input.\n",
    "\n",
    "2. Define a function named `get_customer_orders` that takes no parameters. Inside the function, implement the code for prompting the user to enter the product names using a loop. The function should return the `customer_orders` set.\n",
    "\n",
    "3. Define a function named `update_inventory` that takes `customer_orders` and `inventory` as parameters. Inside the function, implement the code for updating the inventory dictionary based on the customer orders.\n",
    "\n",
    "4. Define a function named `calculate_order_statistics` that takes `customer_orders` and `products` as parameters. Inside the function, implement the code for calculating the order statistics (total products ordered, and percentage of unique products ordered). The function should return these values.\n",
    "\n",
    "5. Define a function named `print_order_statistics` that takes `order_statistics` as a parameter. Inside the function, implement the code for printing the order statistics.\n",
    "\n",
    "6. Define a function named `print_updated_inventory` that takes `inventory` as a parameter. Inside the function, implement the code for printing the updated inventory.\n",
    "\n",
    "7. Call the functions in the appropriate sequence to execute the program and manage customer orders.\n",
    "\n",
    "Hints for functions:\n",
    "\n",
    "- Consider the input parameters required for each function and their return values.\n",
    "- Utilize function parameters and return values to transfer data between functions.\n",
    "- Test your functions individually to ensure they work correctly.\n",
    "\n",
    "\n"
   ]
  },
  {
   "cell_type": "code",
   "execution_count": 28,
   "id": "a3f088fa",
   "metadata": {},
   "outputs": [
    {
     "name": "stdout",
     "output_type": "stream",
     "text": [
      "{'t-shirt': 10, 'mug': 20, 'hat': 30, 'book': 40, 'keychain': 50}\n"
     ]
    }
   ],
   "source": [
    "\n",
    "def initialize_inventory(products):\n",
    "    inventory = {}\n",
    "\n",
    "    for producto in products:\n",
    "        cantidad = int(input(f\"Introduce la cantidad para {producto}\"))\n",
    "        inventory[producto] = cantidad\n",
    "\n",
    "    return inventory\n",
    "\n",
    "products = [\"t-shirt\", \"mug\", \"hat\", \"book\", \"keychain\"]\n",
    "\n",
    "#print(llamar_init)"
   ]
  },
  {
   "cell_type": "code",
   "execution_count": 29,
   "id": "f4b43952",
   "metadata": {},
   "outputs": [
    {
     "name": "stdout",
     "output_type": "stream",
     "text": [
      "{'book', 't-shirt'}\n"
     ]
    }
   ],
   "source": [
    "def get_customer_orders():\n",
    "\n",
    "    customer_orders = set() #set vacio\n",
    "\n",
    "\n",
    "    while True:\n",
    "        pedir_productos = input(\"Introduce un articulo que quieras pedir: \")\n",
    "        \n",
    "\n",
    "        customer_orders.add(pedir_productos) #añade articulo al set\n",
    "\n",
    "        pregunta = input(\"Quieres añadir mas productos? (yes/no)\")\n",
    "\n",
    "        if pregunta == \"no\":\n",
    "            break\n",
    "    \n",
    "    return customer_orders\n",
    "\n",
    "\n",
    "#print(llamar_get_cust)\n",
    "\n"
   ]
  },
  {
   "cell_type": "code",
   "execution_count": 32,
   "id": "2f5a2114",
   "metadata": {},
   "outputs": [
    {
     "name": "stdout",
     "output_type": "stream",
     "text": [
      "{'t-shirt': 10, 'book': 40}\n"
     ]
    }
   ],
   "source": [
    "#3. Define a function named `update_inventory` that takes `customer_orders` and `inventory` as parameters. \n",
    "# Inside the function, implement the code for updating the inventory dictionary based on the customer orders.\n",
    "\n",
    "def update_inventory(customer_orders, inventory):\n",
    "\n",
    "    nuevo_dict = {}\n",
    "    \n",
    "    for clave, valor in inventory.items():\n",
    "        if clave in customer_orders:\n",
    "            nuevo_dict[clave] = valor\n",
    "    \n",
    "    inventory.clear()\n",
    "\n",
    "    for clave, valor in nuevo_dict.items():\n",
    "        inventory[clave] = valor\n",
    "\n",
    "    return inventory\n",
    "\n",
    "\n",
    "#print(llamar_update)"
   ]
  },
  {
   "cell_type": "code",
   "execution_count": 38,
   "id": "456fbfa1",
   "metadata": {},
   "outputs": [
    {
     "name": "stdout",
     "output_type": "stream",
     "text": [
      "(2, 40.0)\n"
     ]
    }
   ],
   "source": [
    "#4. Define a function named `calculate_order_statistics` that takes `customer_orders` and `products` as parameters. Inside the function, \n",
    "# implement the code for calculating the order statistics (total products ordered, and percentage of unique products ordered). \n",
    "# The function should return these values.\n",
    "\n",
    "\n",
    "def calculate_order_statistic(customer_orders, products):\n",
    "    \n",
    "    total_pedidos = len(customer_orders)\n",
    "\n",
    "    media = (total_pedidos / len(products) * 100)\n",
    "    \n",
    "    order_statistics = total_pedidos, media\n",
    "    \n",
    "    return order_statistics\n",
    "\n",
    "\n",
    "#print(llamar_calculate)"
   ]
  },
  {
   "cell_type": "code",
   "execution_count": 40,
   "id": "e6cfbf6a",
   "metadata": {},
   "outputs": [
    {
     "name": "stdout",
     "output_type": "stream",
     "text": [
      "Total products ordered: 2\n",
      "Percentage of unique products ordered 40.0\n"
     ]
    }
   ],
   "source": [
    "#5. Define a function named `print_order_statistics` that takes `order_statistics` as a parameter.\n",
    "#  Inside the function, implement the code for printing the order statistics.\n",
    "\n",
    "def print_order_statistcs(order_statistics):\n",
    "    print(f\"Total products ordered: {order_statistics[0]}\")\n",
    "    print(f\"Percentage of unique products ordered {order_statistics[1]}\")\n",
    "\n"
   ]
  },
  {
   "cell_type": "code",
   "execution_count": 44,
   "id": "1bf7bd88",
   "metadata": {},
   "outputs": [],
   "source": [
    "#6. Define a function named `print_updated_inventory` that takes `inventory` as a parameter. \n",
    "# Inside the function, implement the code for printing the updated inventory.\n",
    "\n",
    "def print_updated_inventory(inventory):\n",
    "\n",
    "    print(inventory)\n",
    "\n"
   ]
  },
  {
   "cell_type": "code",
   "execution_count": 45,
   "id": "12730164",
   "metadata": {},
   "outputs": [
    {
     "name": "stdout",
     "output_type": "stream",
     "text": [
      "Total products ordered: 2\n",
      "Percentage of unique products ordered 40.0\n",
      "{'mug': 20, 'book': 40}\n"
     ]
    }
   ],
   "source": [
    "#7. Call the functions in the appropriate sequence to execute the program and manage customer orders.\n",
    "\n",
    "llamar_init = initialize_inventory(products)\n",
    "llamar_get_cust = get_customer_orders()\n",
    "llamar_update = update_inventory(llamar_get_cust, llamar_init)\n",
    "llamar_calculate = calculate_order_statistic(llamar_get_cust, products)\n",
    "llamar_print = print_order_statistcs(llamar_calculate)\n",
    "llamar_print_inventory = print_updated_inventory(llamar_update)\n"
   ]
  }
 ],
 "metadata": {
  "kernelspec": {
   "display_name": "Python 3 (ipykernel)",
   "language": "python",
   "name": "python3"
  },
  "language_info": {
   "codemirror_mode": {
    "name": "ipython",
    "version": 3
   },
   "file_extension": ".py",
   "mimetype": "text/x-python",
   "name": "python",
   "nbconvert_exporter": "python",
   "pygments_lexer": "ipython3",
   "version": "3.12.4"
  }
 },
 "nbformat": 4,
 "nbformat_minor": 5
}
